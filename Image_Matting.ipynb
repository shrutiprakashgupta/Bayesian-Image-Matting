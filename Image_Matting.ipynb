{
  "nbformat": 4,
  "nbformat_minor": 0,
  "metadata": {
    "colab": {
      "name": "Image Matting.ipynb",
      "provenance": []
    },
    "kernelspec": {
      "name": "python3",
      "display_name": "Python 3"
    },
    "language_info": {
      "name": "python"
    }
  },
  "cells": [
    {
      "cell_type": "markdown",
      "metadata": {
        "id": "a-6Peb72Nw61"
      },
      "source": [
        "The image files and the trimaps need to be loaded and stored in the respective folders before the processing starts."
      ]
    },
    {
      "cell_type": "code",
      "metadata": {
        "colab": {
          "resources": {
            "http://localhost:8080/nbextensions/google.colab/files.js": {
              "data": "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",
              "ok": true,
              "headers": [
                [
                  "content-type",
                  "application/javascript"
                ]
              ],
              "status": 200,
              "status_text": ""
            }
          },
          "base_uri": "https://localhost:8080/",
          "height": 39
        },
        "id": "YnRTlyEQNt3f",
        "outputId": "90c003c9-5dd7-4e25-f284-fb711fb7b7d6"
      },
      "source": [
        "from google.colab import files\n",
        "uploaded = files.upload()"
      ],
      "execution_count": null,
      "outputs": [
        {
          "output_type": "display_data",
          "data": {
            "text/html": [
              "\n",
              "     <input type=\"file\" id=\"files-aa113aad-ee16-4110-a91d-f8b9f729d739\" name=\"files[]\" multiple disabled\n",
              "        style=\"border:none\" />\n",
              "     <output id=\"result-aa113aad-ee16-4110-a91d-f8b9f729d739\">\n",
              "      Upload widget is only available when the cell has been executed in the\n",
              "      current browser session. Please rerun this cell to enable.\n",
              "      </output>\n",
              "      <script src=\"/nbextensions/google.colab/files.js\"></script> "
            ],
            "text/plain": [
              "<IPython.core.display.HTML object>"
            ]
          },
          "metadata": {}
        }
      ]
    },
    {
      "cell_type": "code",
      "metadata": {
        "id": "5ODRfe6TN0sI"
      },
      "source": [
        "!mkdir original_img\n",
        "!mv GT* original_img/."
      ],
      "execution_count": 2,
      "outputs": []
    },
    {
      "cell_type": "code",
      "metadata": {
        "id": "L3Wz1iT5N2jG"
      },
      "source": [
        "!mkdir trimap_img\n",
        "!mv GT* trimap_img/."
      ],
      "execution_count": 6,
      "outputs": []
    },
    {
      "cell_type": "code",
      "metadata": {
        "id": "h1Ar_tGBN4UI"
      },
      "source": [
        "!mkdir results\n",
        "!mv GT* results/."
      ],
      "execution_count": 8,
      "outputs": []
    },
    {
      "cell_type": "code",
      "metadata": {
        "id": "HpwQa6NzN6o_"
      },
      "source": [
        "!mkdir results_exact\n",
        "!mv GT* results_exact/."
      ],
      "execution_count": null,
      "outputs": []
    },
    {
      "cell_type": "code",
      "metadata": {
        "id": "4oSqPcuPN8r7"
      },
      "source": [
        "!mkdir ground_truth\n",
        "!mv GT* ground_truth/."
      ],
      "execution_count": 4,
      "outputs": []
    },
    {
      "cell_type": "markdown",
      "metadata": {
        "id": "wgkOAqa3OHXW"
      },
      "source": [
        "# Image Matting\n"
      ]
    },
    {
      "cell_type": "code",
      "metadata": {
        "id": "h5jPQgA6N-w2"
      },
      "source": [
        "import cv2 \n",
        "import numpy as np\n",
        "from google.colab.patches import cv2_imshow\n",
        "\n",
        "def gaussian_weight_matrix(N, sigma):\n",
        "    m, n = [s//2 for s in N]\n",
        "    x, y = np.ogrid[-m:m+1, -n:n+1]\n",
        "    h = np.exp(-(x*x + y*y)/(2.*sigma*sigma))\n",
        "    #To restrict the precision errors, very small values are approximated with 0\n",
        "    h[h < 2e-16] = 0\n",
        "    if (np.sum(h)!=0):\n",
        "      h = h/np.sum(h)\n",
        "    return h\n",
        "\n",
        "def neighbors(src, x, y, N):\n",
        "  size = src.shape\n",
        "  h = size[0]\n",
        "  w = size[1]\n",
        "  n = N//2\n",
        "  low_lim_x = max(0,x-n)\n",
        "  low_lim_y = max(0,y-n)\n",
        "  up_lim_x = min(w,x+1+n)\n",
        "  up_lim_y = min(h,y+1+n)\n",
        "  \n",
        "  if len(size)==2:\n",
        "    #For alpha matrix\n",
        "    neigh = np.zeros((N,N))\n",
        "    neigh[n-(y-low_lim_y):n+(up_lim_y-y),n-(x-low_lim_x):n+(up_lim_x-x)] = src[low_lim_y:up_lim_y,low_lim_x:up_lim_x]\n",
        "  else:\n",
        "    #For foreground and background matrix\n",
        "    neigh = np.zeros((N,N,3))\n",
        "    neigh[n-(y-low_lim_y):n+(up_lim_y-y),n-(x-low_lim_x):n+(up_lim_x-x),:] = src[low_lim_y:up_lim_y,low_lim_x:up_lim_x]\n",
        "  return neigh\n",
        "\n",
        "def characterize(x, w):\n",
        "  W = np.sum(w)\n",
        "  #Mean vector\n",
        "  mu = np.einsum('ij,i->j', x, w)/W\n",
        "  #Normalizing the vectors\n",
        "  norm = x-mu[:,np.newaxis].T\n",
        "  weighted_norm = np.einsum('ij,i->ij', norm, np.sqrt(w))\n",
        "  #Computing weighted covariance matrix\n",
        "  #The eignevectors are same for Cov matrix computed as X*X.T or X.T*X\n",
        "  #Extra error component added to prevent Singular matrices\n",
        "  cov = (weighted_norm.T @ weighted_norm)/W + 1e-5*np.eye(3)\n",
        "  #Finding the eigenvalues of the covariance matrix, for clustering\n",
        "  val, vec = np.linalg.eig(np.nan_to_num(cov))\n",
        "  cluster = {}\n",
        "  cluster[\"x\"] = x\n",
        "  cluster[\"w\"] = w\n",
        "  cluster[\"Mean\"] = mu\n",
        "  cluster[\"Cov\"] = cov\n",
        "  cluster[\"Eigenvalues\"] = val\n",
        "  cluster[\"Eigenvectors\"] = vec\n",
        "  cluster[\"Sig_val\"] = np.max(np.abs(val))\n",
        "  cluster[\"Sig_vec\"] = vec[np.argmax(np.abs(val))]\n",
        "  return cluster\n",
        "\n",
        "\n",
        "def cluster(x, w, dis=0.05):\n",
        "  mu = []\n",
        "  sigma = []\n",
        "  clusters = []\n",
        "\n",
        "  cluster = characterize(x, w)\n",
        "  #Determining the mean and covariance for the cluster\n",
        "  clusters.append(cluster)\n",
        "\n",
        "  #dis is the minimum variance between two clusters\n",
        "  #iterated till any cluster has two elements which are more distant than dis\n",
        "  while max(clusters, key=lambda x: x[\"Sig_val\"])[\"Sig_val\"] > dis:\n",
        "    idx_max = max(enumerate(clusters), key=lambda x: x[1][\"Sig_val\"])[0]\n",
        "    C_i = clusters[idx_max]\n",
        "    idx = C_i[\"x\"] @ C_i[\"Sig_vec\"] <= np.dot(C_i[\"Mean\"], C_i[\"Sig_vec\"])\n",
        "    #Separating the elements into two clusters \n",
        "    #Based on their component in the direction of Sig_vec being smaller and larger than that of the mean vector\n",
        "    C_a = characterize(C_i[\"x\"][idx], C_i[\"w\"][idx])\n",
        "    C_b = characterize(C_i[\"x\"][np.logical_not(idx)], C_i[\"w\"][np.logical_not(idx)])\n",
        "    #Defining two new clusters, instead of the old one\n",
        "    clusters.pop(idx_max)\n",
        "    clusters.append(C_a)\n",
        "    clusters.append(C_b)\n",
        "  \n",
        "  for n,cluster in enumerate(clusters):\n",
        "    mu.append(cluster[\"Mean\"])\n",
        "    sigma.append(cluster[\"Cov\"])\n",
        "  \n",
        "  return np.array(mu), np.array(sigma)\n",
        "\n",
        "def solve(F_bar, F_Cov, B_bar, B_Cov, C, sigma_C, alpha_init, maxIter, minLike):\n",
        "  alpha = alpha_init\n",
        "  Max_alpha = -1\n",
        "\n",
        "  last_like = -np.inf\n",
        "  chg_like = minLike + 1\n",
        "  max_like = -np.inf\n",
        "\n",
        "  A = np.zeros((2*3,2*3))\n",
        "  b = np.zeros((1,6))\n",
        "  I = np.eye(3)\n",
        "  inv_sigma_C_2 = 1/(sigma_C*sigma_C)\n",
        "  \n",
        "  for i in range(np.size(F_bar,0)):\n",
        "    F_bar_i = F_bar[i]\n",
        "    F_Sigma_inv_i = np.linalg.inv(F_Cov[i])\n",
        "\n",
        "    for j in range(np.size(B_bar,0)):\n",
        "      B_bar_j = B_bar[j]\n",
        "      B_Sigma_inv_j = np.linalg.inv(B_Cov[j])\n",
        "\n",
        "      iter = 1\n",
        "      while ((iter < maxIter)&(chg_like > minLike)):\n",
        "          \n",
        "          A[0:3,0:3] = F_Sigma_inv_i + I*alpha**2 * inv_sigma_C_2\n",
        "          A[0:3,3:6] = I*alpha*(1-alpha) * inv_sigma_C_2\n",
        "          A[3:6,3:6] = B_Sigma_inv_j + I*(1-alpha)**2 * inv_sigma_C_2\n",
        "          A[3:6,0:3] = A[0:3,3:6]\n",
        "          b[0,0:3] = np.matmul(F_Sigma_inv_i, F_bar_i) + C * alpha * inv_sigma_C_2\n",
        "          b[0,3:6] = np.matmul(B_Sigma_inv_j, B_bar_j) + C * (1-alpha) * inv_sigma_C_2\n",
        "\n",
        "          X = np.linalg.solve(A, b.T)\n",
        "          F = X[0:3]\n",
        "          B = X[3:6]\n",
        "          F = np.maximum(0, np.minimum(1, X[0:3]))\n",
        "          B = np.maximum(0, np.minimum(1, X[3:6]))\n",
        "          \n",
        "                # solve for alpha\n",
        "\n",
        "          alpha = np.matmul((np.atleast_2d(C).T-B).T, (F-B)) / np.sum((F-B)**2)\n",
        "          alpha = np.maximum(0, np.minimum(1, alpha))[0,0]\n",
        "\n",
        "                # # calculate likelihood\n",
        "          L_C = - np.sum((np.atleast_2d(C).T -alpha*F-(1-alpha)*B)**2) * inv_sigma_C_2\n",
        "          L_F = (-1* np.matmul(np.matmul((F- np.atleast_2d(F_bar_i).T).T , F_Sigma_inv_i), (F-np.atleast_2d(F_bar_i).T))/2)[0,0]\n",
        "          L_B = (-1* np.matmul(np.matmul((B- np.atleast_2d(B_bar_j).T).T , B_Sigma_inv_j), (B-np.atleast_2d(B_bar_j).T))/2)[0,0]\n",
        "          like = (L_C + L_F + L_B)\n",
        "                #like = 0\n",
        "\n",
        "          if (like > max_like):\n",
        "            max_like = like\n",
        "            Max_alpha = alpha\n",
        "            Max_F = F.ravel()\n",
        "            Max_B = B.ravel()\n",
        "\n",
        "          chg_like = like-last_like\n",
        "          iter = iter+1\n",
        "  \n",
        "  return Max_F, Max_B, Max_alpha\n",
        "\n",
        "def matting(img_path, trimap_path):\n",
        "  #Reading the image and trimap file \n",
        "  #(and mapping the pixel values from 0-255 to 0-1, to maintain consistency in order of values in computation)\n",
        "  img = np.array(cv2.imread(img_path))/255\n",
        "  trimap = np.array(cv2.imread(trimap_path, cv2.IMREAD_GRAYSCALE))\n",
        "\n",
        "  h,w,c = img.shape\n",
        "  #segregating the foreground and background (already known pixels)\n",
        "  fg_mask = (trimap == 255)\n",
        "  bg_mask = (trimap == 0)\n",
        "  fg_pix = np.zeros((h,w,3))\n",
        "  bg_pix = np.zeros((h,w,3))\n",
        "  for i in range(3):\n",
        "    fg_pix[:,:,i] = img[:,:,i]*fg_mask\n",
        "    bg_pix[:,:,i] = img[:,:,i]*bg_mask\n",
        "\n",
        "  #alpha is initialized with 1-foreground, 0-background, nan-unknown pixels\n",
        "  alpha = np.array(fg_mask, dtype=float)\n",
        "  uk_mask = np.logical_not(np.logical_or(fg_mask,bg_mask))\n",
        "  alpha[uk_mask] = np.nan\n",
        "\n",
        "  #unknown pixels separated out  \n",
        "  n_unknown = np.sum(uk_mask)\n",
        "  unknown = uk_mask\n",
        "  \n",
        "  #determining the size and weights for the sliding window\n",
        "  #Sigma is taken to be 8, and mean 0 for the gaussian distribution\n",
        "  Min_neighbor = 10\n",
        "  #again mapping the weights to the range 0-1 \n",
        "  \n",
        "  #Strip size to work on, in one iteration\n",
        "  border = np.ones((3,3))\n",
        "  n_decided = 1\n",
        "  N = 25\n",
        "  while n_decided < n_unknown:\n",
        "    print(\"Unknown: \"+str(n_unknown-n_decided))\n",
        "    #Processing the pixels from outward to inward\n",
        "    unknown = cv2.erode(unknown.astype(np.uint8), border, iterations=1)\n",
        "    uk_pix = np.logical_and(np.logical_not(unknown), uk_mask)\n",
        "    #Taking unknowns in the selected strip\n",
        "    Y, X = np.nonzero(uk_pix) \n",
        "    \n",
        "    #For each unknown pixel\n",
        "    skip_count = 0\n",
        "    count = 0\n",
        "    for i in range(np.size(X,0)):\n",
        "        if (count == skip_count):\n",
        "          if (count == (n_unknown-n_decided)):\n",
        "          #In case the sliding window is insufficient for the process to proceed, increase it marginally\n",
        "            N = N+2\n",
        "            print(\"N incremented to \"+str(N))\n",
        "            count = 0\n",
        "            skip_count = 0\n",
        "        else:\n",
        "          count = 0\n",
        "          skip_count = 0\n",
        "\n",
        "        count = count+1\n",
        "        \n",
        "        x, y = X[i], Y[i]\n",
        "        pix = img[y, x]\n",
        "        \n",
        "        #Getting the neighbouring pixels in the sliding window\n",
        "        a = neighbors(alpha, x, y, N)\n",
        "        fg_pixels = neighbors(fg_pix, x, y, N)\n",
        "        bg_pixels = neighbors(bg_pix, x, y, N)\n",
        "        \n",
        "        #Assigning the weights to these pixel values, and flattening it for the clustering algorithm\n",
        "        #w_i = (alpha_i^2) * g_i\n",
        "        gaussian_weights = gaussian_weight_matrix((N,N),8)\n",
        "        gaussian_weights/np.max(gaussian_weights)\n",
        "\n",
        "        fg_weights = (a**2 * gaussian_weights).reshape(-1)\n",
        "        fg_pixels = np.reshape(fg_pixels, (N*N, 3))\n",
        "        #only non-zero values are computationally useful\n",
        "        valid_pix = np.nan_to_num(fg_weights) > 0\n",
        "        fg_pixels = fg_pixels[valid_pix, :]\n",
        "        fg_weights = fg_weights[valid_pix]      \n",
        "        \n",
        "        bg_weights = ((1-a)**2 * gaussian_weights).reshape(-1)\n",
        "        bg_pixels = np.reshape(bg_pixels, (N*N, 3))\n",
        "        valid_pix = np.nan_to_num(bg_weights) > 0\n",
        "        bg_pixels = bg_pixels[valid_pix, :]\n",
        "        bg_weights = bg_weights[valid_pix]\n",
        "\n",
        "        #Atleast Min_neighbor pixel values should be there for computation\n",
        "        if len(fg_weights) < Min_neighbor or len(bg_weights) < Min_neighbor:\n",
        "            skip_count = skip_count+1\n",
        "            continue\n",
        "\n",
        "        #Clustering\n",
        "        fg_bar, fg_Cov = cluster(fg_pixels, fg_weights)\n",
        "        bg_bar, bg_Cov = cluster(bg_pixels, bg_weights)\n",
        "\n",
        "        #Solving by the iterative method\n",
        "        alpha_init = np.nanmean(a.reshape(-1))\n",
        "        #Maximum number of iterations is kept as 50 \n",
        "        #or the iteration woudl stop if change in likelihood is less than 1e-6 between two consecutive steps\n",
        "        f, b, alphaT = solve(fg_bar, fg_Cov, bg_bar, bg_Cov, pix, 0.01, alpha_init, 50, 1e-6)\n",
        "\n",
        "        fg_pix[y, x] = f.ravel()\n",
        "        bg_pix[y, x] = b.ravel()\n",
        "        alpha[y, x] = alphaT\n",
        "        uk_mask[y, x] = 0 \n",
        "        n_decided += 1\n",
        "        # N = 25\n",
        "        if (n_decided % 50000 == 0):\n",
        "          # print(str(n_decided)+\" Pixels decided...........\")\n",
        "          cv2_imshow(alpha*255)\n",
        "          cv2.imwrite(\"/content/results/GT\" + \"{:02d}\".format(file_no+1) + \".png\",alpha)\n",
        "  return alpha\n",
        "\n",
        "for file_no in range(17,18):\n",
        "  img_path = \"/content/original_img/GT\" + \"{:02d}\".format(file_no+1) + \".png\"\n",
        "  trimap_path = \"/content/trimap_img/GT\" + \"{:02d}\".format(file_no+1) + \".png\"\n",
        "  alpha = matting(img_path, trimap_path)*255\n",
        "  \n",
        "  gt_path = \"/content/ground_truth/GT\" + \"{:02d}\".format(file_no+1) + \".png\"\n",
        "  gt = np.array(cv2.imread(gt_path, cv2.IMREAD_GRAYSCALE))\n",
        "  cv2.imwrite(\"/content/results/GT\" + \"{:02d}\".format(file_no+1) + \".png\",alpha)\n",
        "  \n",
        "  np.savetxt(\"/content/results_exact/GT\" + \"{:02d}\".format(file_no+1) + \".txt\",alpha)\n",
        "  abs_diff = np.sum(np.abs(alpha-gt))\n",
        "  abs_diff_per_pix = abs_diff/(np.size(alpha,0)*np.size(alpha,1))\n",
        "  \n",
        "  cv2_imshow(gt)\n",
        "  print(\"Ground Truth\")\n",
        "  cv2_imshow(alpha)\n",
        "  print(\"Predicted Alpha Matte\")\n",
        "  print(\"Absolute Diff: \"+str(abs_diff))\n",
        "  print(\"Absolute Diff Per Pixel: \"+str(abs_diff_per_pix))"
      ],
      "execution_count": null,
      "outputs": []
    },
    {
      "cell_type": "markdown",
      "metadata": {
        "id": "1VwoEXJ_OjTb"
      },
      "source": [
        "Visualising the result and computing the quality metric on the results of the processing."
      ]
    },
    {
      "cell_type": "code",
      "metadata": {
        "id": "Brh7m7uGOknV"
      },
      "source": [
        "import cv2 \n",
        "import numpy as np\n",
        "from google.colab.patches import cv2_imshow\n",
        "\n",
        "for file_no in range(0,27):\n",
        "  img_path = \"/content/original_img/GT\" + \"{:02d}\".format(file_no+1) + \".png\"\n",
        "  img = np.array(cv2.imread(img_path))\n",
        "  cv2_imshow(img)\n",
        "  print(\"Original Image\")\n",
        "  \n",
        "  gt_path = \"/content/ground_truth/GT\" + \"{:02d}\".format(file_no+1) + \".png\"\n",
        "  gt = np.array(cv2.imread(gt_path, cv2.IMREAD_GRAYSCALE))\n",
        "  cv2_imshow(gt)\n",
        "  print(\"Ground Truth\")\n",
        "\n",
        "  # alpha_path = \"/content/results/GT\" + \"{:02d}\".format(file_no+1) + \".png\"\n",
        "  # alpha = np.array(cv2.imread(alpha_path, cv2.IMREAD_GRAYSCALE))\n",
        "  # cv2_imshow(alpha)\n",
        "  # print(\"Predicted Alpha Matte\")\n",
        "\n",
        "  alpha_path_exact = \"/content/results_exact/GT\" + \"{:02d}\".format(file_no+1) + \".txt\"\n",
        "  alpha_exact = np.loadtxt(alpha_path_exact,dtype=float)\n",
        "  cv2_imshow(alpha_exact)\n",
        "  print(\"Predicted Alpha Matte Exact\")\n",
        "\n",
        "  diff = np.array(np.abs(gt-alpha_exact),dtype=int)\n",
        "  if (np.sum(diff)<2e-16):\n",
        "    print(\"Mean Absolute Difference (Exact): 0.00\")\n",
        "  else:\n",
        "    print(\"Mean Absolute Difference (Exact): \" + str(np.sum(diff)/(np.size(alpha_exact,0)*np.size(alpha_exact,1))))\n",
        "  input()"
      ],
      "execution_count": null,
      "outputs": []
    },
    {
      "cell_type": "markdown",
      "metadata": {
        "id": "AqAz4_yCO22o"
      },
      "source": [
        "The following code can be used to extract the foreground from the image with the alpha matte created."
      ]
    },
    {
      "cell_type": "code",
      "metadata": {
        "id": "MV_lNashO17j"
      },
      "source": [
        "file_no = 17\n",
        "img_path = \"/content/original_img/GT\" + \"{:02d}\".format(file_no+1) + \".png\"\n",
        "img = np.array(cv2.imread(img_path))\n",
        "cv2_imshow(img)\n",
        "print(\"Original Image\")\n",
        "  \n",
        "gt_path = \"/content/ground_truth/GT\" + \"{:02d}\".format(file_no+1) + \".png\"\n",
        "gt = np.array(cv2.imread(gt_path, cv2.IMREAD_GRAYSCALE),dtype=float)\n",
        "cv2_imshow(gt)\n",
        "print(\"Ground Truth\")\n",
        "\n",
        "extract_with_gt = (img*gt[:,:,np.newaxis])/255\n",
        "cv2_imshow(extract_with_gt)\n",
        "print(\"Extracted with the Ground Truth\")\n",
        "\n",
        "alpha_path_exact = \"/content/results_exact/GT\" + \"{:02d}\".format(file_no+1) + \".txt\"\n",
        "alpha_exact = np.loadtxt(alpha_path_exact,dtype=float)\n",
        "cv2_imshow(alpha_exact)\n",
        "print(\"Predicted Alpha Matte Exact\")\n",
        "\n",
        "extract_with_pred = (img*alpha_exact[:,:,np.newaxis])/255\n",
        "cv2_imshow(extract_with_pred)\n",
        "print(\"Extracted with the Predicted Alpha Matte\")\n",
        "\n",
        "cv2.imwrite(\"/content/GT_with_gt\" + \"{:02d}\".format(file_no+1) + \".png\",extract_with_gt)\n",
        "cv2.imwrite(\"/content/GT_with_pred\" + \"{:02d}\".format(file_no+1) + \".png\",extract_with_pred)"
      ],
      "execution_count": null,
      "outputs": []
    }
  ]
}